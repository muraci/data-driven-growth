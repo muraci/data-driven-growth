{
 "cells": [
  {
   "cell_type": "code",
   "execution_count": 1,
   "metadata": {},
   "outputs": [],
   "source": [
    "import numpy as np\n",
    "import pandas as pd\n",
    "import matplotlib.pyplot as plt\n",
    "import seaborn as sns\n",
    "import warnings\n",
    "\n",
    "%matplotlib inline\n",
    "warnings.filterwarnings('ignore')\n",
    "plt.style.use('ggplot')"
   ]
  },
  {
   "cell_type": "code",
   "execution_count": 2,
   "metadata": {},
   "outputs": [],
   "source": [
    "from sklearn.cluster import KMeans"
   ]
  },
  {
   "cell_type": "code",
   "execution_count": 3,
   "metadata": {},
   "outputs": [
    {
     "data": {
      "text/html": [
       "<div>\n",
       "<style scoped>\n",
       "    .dataframe tbody tr th:only-of-type {\n",
       "        vertical-align: middle;\n",
       "    }\n",
       "\n",
       "    .dataframe tbody tr th {\n",
       "        vertical-align: top;\n",
       "    }\n",
       "\n",
       "    .dataframe thead th {\n",
       "        text-align: right;\n",
       "    }\n",
       "</style>\n",
       "<table border=\"1\" class=\"dataframe\">\n",
       "  <thead>\n",
       "    <tr style=\"text-align: right;\">\n",
       "      <th></th>\n",
       "      <th>InvoiceNo</th>\n",
       "      <th>StockCode</th>\n",
       "      <th>Description</th>\n",
       "      <th>Quantity</th>\n",
       "      <th>InvoiceDate</th>\n",
       "      <th>UnitPrice</th>\n",
       "      <th>CustomerID</th>\n",
       "      <th>Country</th>\n",
       "    </tr>\n",
       "  </thead>\n",
       "  <tbody>\n",
       "    <tr>\n",
       "      <th>0</th>\n",
       "      <td>536365</td>\n",
       "      <td>85123A</td>\n",
       "      <td>WHITE HANGING HEART T-LIGHT HOLDER</td>\n",
       "      <td>6</td>\n",
       "      <td>12/1/2010 8:26</td>\n",
       "      <td>2.55</td>\n",
       "      <td>17850.0</td>\n",
       "      <td>United Kingdom</td>\n",
       "    </tr>\n",
       "    <tr>\n",
       "      <th>1</th>\n",
       "      <td>536365</td>\n",
       "      <td>71053</td>\n",
       "      <td>WHITE METAL LANTERN</td>\n",
       "      <td>6</td>\n",
       "      <td>12/1/2010 8:26</td>\n",
       "      <td>3.39</td>\n",
       "      <td>17850.0</td>\n",
       "      <td>United Kingdom</td>\n",
       "    </tr>\n",
       "    <tr>\n",
       "      <th>2</th>\n",
       "      <td>536365</td>\n",
       "      <td>84406B</td>\n",
       "      <td>CREAM CUPID HEARTS COAT HANGER</td>\n",
       "      <td>8</td>\n",
       "      <td>12/1/2010 8:26</td>\n",
       "      <td>2.75</td>\n",
       "      <td>17850.0</td>\n",
       "      <td>United Kingdom</td>\n",
       "    </tr>\n",
       "  </tbody>\n",
       "</table>\n",
       "</div>"
      ],
      "text/plain": [
       "  InvoiceNo StockCode                         Description  Quantity  \\\n",
       "0    536365    85123A  WHITE HANGING HEART T-LIGHT HOLDER         6   \n",
       "1    536365     71053                 WHITE METAL LANTERN         6   \n",
       "2    536365    84406B      CREAM CUPID HEARTS COAT HANGER         8   \n",
       "\n",
       "      InvoiceDate  UnitPrice  CustomerID         Country  \n",
       "0  12/1/2010 8:26       2.55     17850.0  United Kingdom  \n",
       "1  12/1/2010 8:26       3.39     17850.0  United Kingdom  \n",
       "2  12/1/2010 8:26       2.75     17850.0  United Kingdom  "
      ]
     },
     "execution_count": 3,
     "metadata": {},
     "output_type": "execute_result"
    }
   ],
   "source": [
    "df = pd.read_csv('OnlineRetail.csv', encoding= 'unicode_escape')\n",
    "df.head(3)"
   ]
  },
  {
   "cell_type": "code",
   "execution_count": 4,
   "metadata": {},
   "outputs": [],
   "source": [
    "uk = df[df.Country == 'United Kingdom'].reset_index(drop=True)\n",
    "uk.InvoiceDate = pd.to_datetime(uk.InvoiceDate)"
   ]
  },
  {
   "cell_type": "code",
   "execution_count": 5,
   "metadata": {},
   "outputs": [],
   "source": [
    "uk_6m = uk[(uk.InvoiceDate >= '2011-3-1') & (uk.InvoiceDate < '2011-9-1')].reset_index(drop=True)\n",
    "uk_next = uk[(uk.InvoiceDate >= '2011-9-1') & (uk.InvoiceDate < '2011-12-1')].reset_index(drop=True)"
   ]
  },
  {
   "cell_type": "code",
   "execution_count": 6,
   "metadata": {},
   "outputs": [],
   "source": [
    "uk_user = pd.DataFrame(uk_6m['CustomerID'].unique(), columns=['CustomerID'])"
   ]
  },
  {
   "cell_type": "code",
   "execution_count": 7,
   "metadata": {},
   "outputs": [],
   "source": [
    "#müşterinin gelecekte ilk satın alması\n",
    "uk_next_first_purchase = uk_next.groupby('CustomerID').InvoiceDate.min().reset_index()\n",
    "uk_next_first_purchase.columns = ['CustomerID','MinPurchaseDate']"
   ]
  },
  {
   "cell_type": "code",
   "execution_count": 8,
   "metadata": {},
   "outputs": [],
   "source": [
    "#müşterinin 6m'de son satın alması\n",
    "uk_last_purchase = uk_6m.groupby('CustomerID').InvoiceDate.max().reset_index()\n",
    "uk_last_purchase.columns = ['CustomerID','MaxPurchaseDate']"
   ]
  },
  {
   "cell_type": "code",
   "execution_count": 9,
   "metadata": {},
   "outputs": [],
   "source": [
    "uk_purchase_dates = pd.merge(uk_last_purchase, uk_next_first_purchase, on='CustomerID', how='left')"
   ]
  },
  {
   "cell_type": "code",
   "execution_count": 10,
   "metadata": {},
   "outputs": [
    {
     "data": {
      "text/html": [
       "<div>\n",
       "<style scoped>\n",
       "    .dataframe tbody tr th:only-of-type {\n",
       "        vertical-align: middle;\n",
       "    }\n",
       "\n",
       "    .dataframe tbody tr th {\n",
       "        vertical-align: top;\n",
       "    }\n",
       "\n",
       "    .dataframe thead th {\n",
       "        text-align: right;\n",
       "    }\n",
       "</style>\n",
       "<table border=\"1\" class=\"dataframe\">\n",
       "  <thead>\n",
       "    <tr style=\"text-align: right;\">\n",
       "      <th></th>\n",
       "      <th>CustomerID</th>\n",
       "      <th>MaxPurchaseDate</th>\n",
       "      <th>MinPurchaseDate</th>\n",
       "      <th>NextPurchaseDay</th>\n",
       "    </tr>\n",
       "  </thead>\n",
       "  <tbody>\n",
       "    <tr>\n",
       "      <th>0</th>\n",
       "      <td>12747.0</td>\n",
       "      <td>2011-08-22 10:38:00</td>\n",
       "      <td>2011-10-04 08:26:00</td>\n",
       "      <td>42.0</td>\n",
       "    </tr>\n",
       "    <tr>\n",
       "      <th>1</th>\n",
       "      <td>12748.0</td>\n",
       "      <td>2011-08-30 12:00:00</td>\n",
       "      <td>2011-09-02 10:49:00</td>\n",
       "      <td>2.0</td>\n",
       "    </tr>\n",
       "    <tr>\n",
       "      <th>2</th>\n",
       "      <td>12749.0</td>\n",
       "      <td>2011-08-18 06:19:00</td>\n",
       "      <td>2011-11-17 12:05:00</td>\n",
       "      <td>91.0</td>\n",
       "    </tr>\n",
       "  </tbody>\n",
       "</table>\n",
       "</div>"
      ],
      "text/plain": [
       "   CustomerID     MaxPurchaseDate     MinPurchaseDate  NextPurchaseDay\n",
       "0     12747.0 2011-08-22 10:38:00 2011-10-04 08:26:00             42.0\n",
       "1     12748.0 2011-08-30 12:00:00 2011-09-02 10:49:00              2.0\n",
       "2     12749.0 2011-08-18 06:19:00 2011-11-17 12:05:00             91.0"
      ]
     },
     "execution_count": 10,
     "metadata": {},
     "output_type": "execute_result"
    }
   ],
   "source": [
    "uk_purchase_dates['NextPurchaseDay'] = (uk_purchase_dates['MinPurchaseDate'] - uk_purchase_dates['MaxPurchaseDate']).dt.days\n",
    "uk_purchase_dates.head(3)"
   ]
  },
  {
   "cell_type": "code",
   "execution_count": 11,
   "metadata": {},
   "outputs": [
    {
     "data": {
      "text/html": [
       "<div>\n",
       "<style scoped>\n",
       "    .dataframe tbody tr th:only-of-type {\n",
       "        vertical-align: middle;\n",
       "    }\n",
       "\n",
       "    .dataframe tbody tr th {\n",
       "        vertical-align: top;\n",
       "    }\n",
       "\n",
       "    .dataframe thead th {\n",
       "        text-align: right;\n",
       "    }\n",
       "</style>\n",
       "<table border=\"1\" class=\"dataframe\">\n",
       "  <thead>\n",
       "    <tr style=\"text-align: right;\">\n",
       "      <th></th>\n",
       "      <th>CustomerID</th>\n",
       "      <th>NextPurchaseDay</th>\n",
       "    </tr>\n",
       "  </thead>\n",
       "  <tbody>\n",
       "    <tr>\n",
       "      <th>0</th>\n",
       "      <td>14620.0</td>\n",
       "      <td>999.0</td>\n",
       "    </tr>\n",
       "    <tr>\n",
       "      <th>1</th>\n",
       "      <td>14740.0</td>\n",
       "      <td>999.0</td>\n",
       "    </tr>\n",
       "    <tr>\n",
       "      <th>2</th>\n",
       "      <td>13880.0</td>\n",
       "      <td>57.0</td>\n",
       "    </tr>\n",
       "  </tbody>\n",
       "</table>\n",
       "</div>"
      ],
      "text/plain": [
       "   CustomerID  NextPurchaseDay\n",
       "0     14620.0            999.0\n",
       "1     14740.0            999.0\n",
       "2     13880.0             57.0"
      ]
     },
     "execution_count": 11,
     "metadata": {},
     "output_type": "execute_result"
    }
   ],
   "source": [
    "uk_user = pd.merge(uk_user, uk_purchase_dates[['CustomerID','NextPurchaseDay']], on='CustomerID', how='left')\n",
    "uk_user = uk_user.fillna(999)\n",
    "uk_user.head(3)"
   ]
  },
  {
   "cell_type": "markdown",
   "metadata": {},
   "source": [
    "## Feature Engineering"
   ]
  },
  {
   "cell_type": "markdown",
   "metadata": {},
   "source": [
    "#### RFM"
   ]
  },
  {
   "cell_type": "code",
   "execution_count": 12,
   "metadata": {},
   "outputs": [],
   "source": [
    "#Recency için max satın alınan tarihler bulundu\n",
    "uk_max_purchase = uk_6m.groupby('CustomerID').InvoiceDate.max().reset_index()\n",
    "uk_max_purchase.columns = ['CustomerID','MaxPurchaseDate']\n",
    "\n",
    "#Satır için max gün bulundu\n",
    "uk_max_purchase['Recency'] = (uk_max_purchase['MaxPurchaseDate'].max() - uk_max_purchase['MaxPurchaseDate']).dt.days\n",
    "uk_user = pd.merge(uk_user, uk_max_purchase[['CustomerID','Recency']], on='CustomerID')\n",
    "\n",
    "#Cluster sıralaması\n",
    "def order_cluster(cluster_field_name, target_field_name, df, ascending=False):\n",
    "    df_idx = df.groupby(cluster_field_name)[target_field_name].mean().sort_values(ascending=ascending).reset_index()\n",
    "    df_idx['index'] = df_idx.index\n",
    "    df_last = pd.merge(df, df_idx[[cluster_field_name,'index']], on=cluster_field_name)\n",
    "    df_last = df_last.drop([cluster_field_name], axis=1)\n",
    "    df_last = df_last.rename(columns={'index':cluster_field_name})\n",
    "    return df_last\n",
    "\n",
    "#Recency\n",
    "kmeans = KMeans(n_clusters=4).fit(uk_user[['Recency']])\n",
    "uk_user['RecencyCluster'] = kmeans.predict(uk_user[['Recency']])\n",
    "uk_user = order_cluster('RecencyCluster', 'Recency', uk_user, False)\n",
    "\n",
    "#Frequency\n",
    "uk_frequency = uk_6m.groupby('CustomerID').InvoiceDate.count().reset_index()\n",
    "uk_frequency.columns = ['CustomerID','Frequency']\n",
    "\n",
    "uk_user = pd.merge(uk_user, uk_frequency, on='CustomerID')\n",
    "\n",
    "kmeans = KMeans(n_clusters=4).fit(uk_user[['Frequency']])\n",
    "uk_user['FrequencyCluster'] = kmeans.predict(uk_user[['Frequency']])\n",
    "uk_user = order_cluster('FrequencyCluster', 'Frequency', uk_user, True)\n",
    "\n",
    "#Revenue - Monetary\n",
    "uk_6m['Revenue'] = uk_6m['UnitPrice'] * uk_6m['Quantity']\n",
    "uk_revenue = uk_6m.groupby('CustomerID').Revenue.sum().reset_index()\n",
    "uk_revenue.columns = ['CustomerID','Revenue']\n",
    "\n",
    "uk_user = pd.merge(uk_user, uk_revenue, on='CustomerID')\n",
    "\n",
    "kmeans = KMeans(n_clusters=4).fit(uk_user[['Revenue']])\n",
    "uk_user['RevenueCluster'] = kmeans.predict(uk_user[['Revenue']])\n",
    "uk_user = order_cluster('RevenueCluster', 'Revenue', uk_user, True)\n",
    "\n",
    "#Overall\n",
    "uk_user['OverallScore'] = uk_user['RecencyCluster'] + uk_user['FrequencyCluster'] + uk_user['RevenueCluster']\n",
    "uk_user.groupby('OverallScore')['Recency','Frequency','Revenue'].mean()\n",
    "\n",
    "uk_user['Segment'] = 'Low-Value'\n",
    "uk_user.loc[uk_user['OverallScore']>2,'Segment'] = 'Mid-Value' \n",
    "uk_user.loc[uk_user['OverallScore']>4,'Segment'] = 'High-Value'\n",
    "\n",
    "#Plot\n",
    "uk_graph = uk_user[(uk_user.Revenue < 50000) & (uk_user.Frequency < 2000)]"
   ]
  },
  {
   "cell_type": "code",
   "execution_count": 13,
   "metadata": {},
   "outputs": [
    {
     "data": {
      "text/html": [
       "<div>\n",
       "<style scoped>\n",
       "    .dataframe tbody tr th:only-of-type {\n",
       "        vertical-align: middle;\n",
       "    }\n",
       "\n",
       "    .dataframe tbody tr th {\n",
       "        vertical-align: top;\n",
       "    }\n",
       "\n",
       "    .dataframe thead th {\n",
       "        text-align: right;\n",
       "    }\n",
       "</style>\n",
       "<table border=\"1\" class=\"dataframe\">\n",
       "  <thead>\n",
       "    <tr style=\"text-align: right;\">\n",
       "      <th></th>\n",
       "      <th>CustomerID</th>\n",
       "      <th>NextPurchaseDay</th>\n",
       "      <th>Recency</th>\n",
       "      <th>RecencyCluster</th>\n",
       "      <th>Frequency</th>\n",
       "      <th>FrequencyCluster</th>\n",
       "      <th>Revenue</th>\n",
       "      <th>RevenueCluster</th>\n",
       "      <th>OverallScore</th>\n",
       "      <th>Segment</th>\n",
       "    </tr>\n",
       "  </thead>\n",
       "  <tbody>\n",
       "    <tr>\n",
       "      <th>0</th>\n",
       "      <td>14620.0</td>\n",
       "      <td>999.0</td>\n",
       "      <td>104</td>\n",
       "      <td>1</td>\n",
       "      <td>30</td>\n",
       "      <td>0</td>\n",
       "      <td>393.28</td>\n",
       "      <td>0</td>\n",
       "      <td>1</td>\n",
       "      <td>Low-Value</td>\n",
       "    </tr>\n",
       "    <tr>\n",
       "      <th>1</th>\n",
       "      <td>14740.0</td>\n",
       "      <td>999.0</td>\n",
       "      <td>91</td>\n",
       "      <td>1</td>\n",
       "      <td>93</td>\n",
       "      <td>0</td>\n",
       "      <td>1423.21</td>\n",
       "      <td>0</td>\n",
       "      <td>1</td>\n",
       "      <td>Low-Value</td>\n",
       "    </tr>\n",
       "    <tr>\n",
       "      <th>2</th>\n",
       "      <td>16462.0</td>\n",
       "      <td>111.0</td>\n",
       "      <td>85</td>\n",
       "      <td>1</td>\n",
       "      <td>2</td>\n",
       "      <td>0</td>\n",
       "      <td>68.00</td>\n",
       "      <td>0</td>\n",
       "      <td>1</td>\n",
       "      <td>Low-Value</td>\n",
       "    </tr>\n",
       "    <tr>\n",
       "      <th>3</th>\n",
       "      <td>15676.0</td>\n",
       "      <td>178.0</td>\n",
       "      <td>113</td>\n",
       "      <td>1</td>\n",
       "      <td>63</td>\n",
       "      <td>0</td>\n",
       "      <td>877.40</td>\n",
       "      <td>0</td>\n",
       "      <td>1</td>\n",
       "      <td>Low-Value</td>\n",
       "    </tr>\n",
       "    <tr>\n",
       "      <th>4</th>\n",
       "      <td>15092.0</td>\n",
       "      <td>999.0</td>\n",
       "      <td>115</td>\n",
       "      <td>1</td>\n",
       "      <td>26</td>\n",
       "      <td>0</td>\n",
       "      <td>457.81</td>\n",
       "      <td>0</td>\n",
       "      <td>1</td>\n",
       "      <td>Low-Value</td>\n",
       "    </tr>\n",
       "    <tr>\n",
       "      <th>...</th>\n",
       "      <td>...</td>\n",
       "      <td>...</td>\n",
       "      <td>...</td>\n",
       "      <td>...</td>\n",
       "      <td>...</td>\n",
       "      <td>...</td>\n",
       "      <td>...</td>\n",
       "      <td>...</td>\n",
       "      <td>...</td>\n",
       "      <td>...</td>\n",
       "    </tr>\n",
       "    <tr>\n",
       "      <th>2563</th>\n",
       "      <td>13089.0</td>\n",
       "      <td>0.0</td>\n",
       "      <td>0</td>\n",
       "      <td>3</td>\n",
       "      <td>895</td>\n",
       "      <td>2</td>\n",
       "      <td>22670.13</td>\n",
       "      <td>2</td>\n",
       "      <td>7</td>\n",
       "      <td>High-Value</td>\n",
       "    </tr>\n",
       "    <tr>\n",
       "      <th>2564</th>\n",
       "      <td>14298.0</td>\n",
       "      <td>23.0</td>\n",
       "      <td>23</td>\n",
       "      <td>3</td>\n",
       "      <td>750</td>\n",
       "      <td>2</td>\n",
       "      <td>23767.94</td>\n",
       "      <td>2</td>\n",
       "      <td>7</td>\n",
       "      <td>High-Value</td>\n",
       "    </tr>\n",
       "    <tr>\n",
       "      <th>2565</th>\n",
       "      <td>17841.0</td>\n",
       "      <td>3.0</td>\n",
       "      <td>3</td>\n",
       "      <td>3</td>\n",
       "      <td>3546</td>\n",
       "      <td>3</td>\n",
       "      <td>16643.22</td>\n",
       "      <td>2</td>\n",
       "      <td>8</td>\n",
       "      <td>High-Value</td>\n",
       "    </tr>\n",
       "    <tr>\n",
       "      <th>2566</th>\n",
       "      <td>18102.0</td>\n",
       "      <td>27.0</td>\n",
       "      <td>26</td>\n",
       "      <td>3</td>\n",
       "      <td>136</td>\n",
       "      <td>1</td>\n",
       "      <td>88948.33</td>\n",
       "      <td>3</td>\n",
       "      <td>7</td>\n",
       "      <td>High-Value</td>\n",
       "    </tr>\n",
       "    <tr>\n",
       "      <th>2567</th>\n",
       "      <td>17450.0</td>\n",
       "      <td>1.0</td>\n",
       "      <td>0</td>\n",
       "      <td>3</td>\n",
       "      <td>116</td>\n",
       "      <td>1</td>\n",
       "      <td>64382.90</td>\n",
       "      <td>3</td>\n",
       "      <td>7</td>\n",
       "      <td>High-Value</td>\n",
       "    </tr>\n",
       "  </tbody>\n",
       "</table>\n",
       "<p>2568 rows × 10 columns</p>\n",
       "</div>"
      ],
      "text/plain": [
       "      CustomerID  NextPurchaseDay  Recency  RecencyCluster  Frequency  \\\n",
       "0        14620.0            999.0      104               1         30   \n",
       "1        14740.0            999.0       91               1         93   \n",
       "2        16462.0            111.0       85               1          2   \n",
       "3        15676.0            178.0      113               1         63   \n",
       "4        15092.0            999.0      115               1         26   \n",
       "...          ...              ...      ...             ...        ...   \n",
       "2563     13089.0              0.0        0               3        895   \n",
       "2564     14298.0             23.0       23               3        750   \n",
       "2565     17841.0              3.0        3               3       3546   \n",
       "2566     18102.0             27.0       26               3        136   \n",
       "2567     17450.0              1.0        0               3        116   \n",
       "\n",
       "      FrequencyCluster   Revenue  RevenueCluster  OverallScore     Segment  \n",
       "0                    0    393.28               0             1   Low-Value  \n",
       "1                    0   1423.21               0             1   Low-Value  \n",
       "2                    0     68.00               0             1   Low-Value  \n",
       "3                    0    877.40               0             1   Low-Value  \n",
       "4                    0    457.81               0             1   Low-Value  \n",
       "...                ...       ...             ...           ...         ...  \n",
       "2563                 2  22670.13               2             7  High-Value  \n",
       "2564                 2  23767.94               2             7  High-Value  \n",
       "2565                 3  16643.22               2             8  High-Value  \n",
       "2566                 1  88948.33               3             7  High-Value  \n",
       "2567                 1  64382.90               3             7  High-Value  \n",
       "\n",
       "[2568 rows x 10 columns]"
      ]
     },
     "execution_count": 13,
     "metadata": {},
     "output_type": "execute_result"
    }
   ],
   "source": [
    "uk_user"
   ]
  },
  {
   "cell_type": "code",
   "execution_count": 14,
   "metadata": {},
   "outputs": [],
   "source": [
    "#Gün içi çoklu alım olabilir\n",
    "uk_day_order = uk_6m[['CustomerID','InvoiceDate']]\n",
    "uk_day_order['InvoiceDay'] = uk_6m['InvoiceDate'].dt.date\n",
    "uk_day_order = uk_day_order.sort_values(['CustomerID','InvoiceDate'])\n",
    "uk_day_order = uk_day_order.drop_duplicates(subset=['CustomerID','InvoiceDay'])"
   ]
  },
  {
   "cell_type": "code",
   "execution_count": 15,
   "metadata": {},
   "outputs": [
    {
     "data": {
      "text/html": [
       "<div>\n",
       "<style scoped>\n",
       "    .dataframe tbody tr th:only-of-type {\n",
       "        vertical-align: middle;\n",
       "    }\n",
       "\n",
       "    .dataframe tbody tr th {\n",
       "        vertical-align: top;\n",
       "    }\n",
       "\n",
       "    .dataframe thead th {\n",
       "        text-align: right;\n",
       "    }\n",
       "</style>\n",
       "<table border=\"1\" class=\"dataframe\">\n",
       "  <thead>\n",
       "    <tr style=\"text-align: right;\">\n",
       "      <th></th>\n",
       "      <th>CustomerID</th>\n",
       "      <th>InvoiceDate</th>\n",
       "      <th>InvoiceDay</th>\n",
       "    </tr>\n",
       "  </thead>\n",
       "  <tbody>\n",
       "    <tr>\n",
       "      <th>649</th>\n",
       "      <td>12747.0</td>\n",
       "      <td>2011-03-01 14:53:00</td>\n",
       "      <td>2011-03-01</td>\n",
       "    </tr>\n",
       "    <tr>\n",
       "      <th>65091</th>\n",
       "      <td>12747.0</td>\n",
       "      <td>2011-05-05 15:31:00</td>\n",
       "      <td>2011-05-05</td>\n",
       "    </tr>\n",
       "    <tr>\n",
       "      <th>90473</th>\n",
       "      <td>12747.0</td>\n",
       "      <td>2011-05-25 09:57:00</td>\n",
       "      <td>2011-05-25</td>\n",
       "    </tr>\n",
       "  </tbody>\n",
       "</table>\n",
       "</div>"
      ],
      "text/plain": [
       "       CustomerID         InvoiceDate  InvoiceDay\n",
       "649       12747.0 2011-03-01 14:53:00  2011-03-01\n",
       "65091     12747.0 2011-05-05 15:31:00  2011-05-05\n",
       "90473     12747.0 2011-05-25 09:57:00  2011-05-25"
      ]
     },
     "execution_count": 15,
     "metadata": {},
     "output_type": "execute_result"
    }
   ],
   "source": [
    "uk_day_order.head(3)"
   ]
  },
  {
   "cell_type": "code",
   "execution_count": 16,
   "metadata": {},
   "outputs": [],
   "source": [
    "#Son 3 satın almanın tarihi bulundu\n",
    "uk_day_order['PrevInvoiceDate'] = uk_day_order.groupby('CustomerID')['InvoiceDay'].shift(1)\n",
    "uk_day_order['T2InvoiceDate'] = uk_day_order.groupby('CustomerID')['InvoiceDay'].shift(2)\n",
    "uk_day_order['T3InvoiceDate'] = uk_day_order.groupby('CustomerID')['InvoiceDay'].shift(3)"
   ]
  },
  {
   "cell_type": "code",
   "execution_count": 17,
   "metadata": {},
   "outputs": [
    {
     "data": {
      "text/html": [
       "<div>\n",
       "<style scoped>\n",
       "    .dataframe tbody tr th:only-of-type {\n",
       "        vertical-align: middle;\n",
       "    }\n",
       "\n",
       "    .dataframe tbody tr th {\n",
       "        vertical-align: top;\n",
       "    }\n",
       "\n",
       "    .dataframe thead th {\n",
       "        text-align: right;\n",
       "    }\n",
       "</style>\n",
       "<table border=\"1\" class=\"dataframe\">\n",
       "  <thead>\n",
       "    <tr style=\"text-align: right;\">\n",
       "      <th></th>\n",
       "      <th>CustomerID</th>\n",
       "      <th>InvoiceDate</th>\n",
       "      <th>InvoiceDay</th>\n",
       "      <th>PrevInvoiceDate</th>\n",
       "      <th>T2InvoiceDate</th>\n",
       "      <th>T3InvoiceDate</th>\n",
       "    </tr>\n",
       "  </thead>\n",
       "  <tbody>\n",
       "    <tr>\n",
       "      <th>649</th>\n",
       "      <td>12747.0</td>\n",
       "      <td>2011-03-01 14:53:00</td>\n",
       "      <td>2011-03-01</td>\n",
       "      <td>NaN</td>\n",
       "      <td>NaN</td>\n",
       "      <td>NaN</td>\n",
       "    </tr>\n",
       "    <tr>\n",
       "      <th>65091</th>\n",
       "      <td>12747.0</td>\n",
       "      <td>2011-05-05 15:31:00</td>\n",
       "      <td>2011-05-05</td>\n",
       "      <td>2011-03-01</td>\n",
       "      <td>NaN</td>\n",
       "      <td>NaN</td>\n",
       "    </tr>\n",
       "    <tr>\n",
       "      <th>90473</th>\n",
       "      <td>12747.0</td>\n",
       "      <td>2011-05-25 09:57:00</td>\n",
       "      <td>2011-05-25</td>\n",
       "      <td>2011-05-05</td>\n",
       "      <td>2011-03-01</td>\n",
       "      <td>NaN</td>\n",
       "    </tr>\n",
       "  </tbody>\n",
       "</table>\n",
       "</div>"
      ],
      "text/plain": [
       "       CustomerID         InvoiceDate  InvoiceDay PrevInvoiceDate  \\\n",
       "649       12747.0 2011-03-01 14:53:00  2011-03-01             NaN   \n",
       "65091     12747.0 2011-05-05 15:31:00  2011-05-05      2011-03-01   \n",
       "90473     12747.0 2011-05-25 09:57:00  2011-05-25      2011-05-05   \n",
       "\n",
       "      T2InvoiceDate T3InvoiceDate  \n",
       "649             NaN           NaN  \n",
       "65091           NaN           NaN  \n",
       "90473    2011-03-01           NaN  "
      ]
     },
     "execution_count": 17,
     "metadata": {},
     "output_type": "execute_result"
    }
   ],
   "source": [
    "uk_day_order.head(3)"
   ]
  },
  {
   "cell_type": "code",
   "execution_count": 18,
   "metadata": {},
   "outputs": [],
   "source": [
    "uk_day_order['DayDiff'] = (uk_day_order['InvoiceDay'] - uk_day_order['PrevInvoiceDate']).dt.days\n",
    "uk_day_order['DayDiff2'] = (uk_day_order['InvoiceDay'] - uk_day_order['T2InvoiceDate']).dt.days\n",
    "uk_day_order['DayDiff3'] = (uk_day_order['InvoiceDay'] - uk_day_order['T3InvoiceDate']).dt.days"
   ]
  },
  {
   "cell_type": "code",
   "execution_count": 19,
   "metadata": {},
   "outputs": [
    {
     "data": {
      "text/html": [
       "<div>\n",
       "<style scoped>\n",
       "    .dataframe tbody tr th:only-of-type {\n",
       "        vertical-align: middle;\n",
       "    }\n",
       "\n",
       "    .dataframe tbody tr th {\n",
       "        vertical-align: top;\n",
       "    }\n",
       "\n",
       "    .dataframe thead th {\n",
       "        text-align: right;\n",
       "    }\n",
       "</style>\n",
       "<table border=\"1\" class=\"dataframe\">\n",
       "  <thead>\n",
       "    <tr style=\"text-align: right;\">\n",
       "      <th></th>\n",
       "      <th>CustomerID</th>\n",
       "      <th>InvoiceDate</th>\n",
       "      <th>InvoiceDay</th>\n",
       "      <th>PrevInvoiceDate</th>\n",
       "      <th>T2InvoiceDate</th>\n",
       "      <th>T3InvoiceDate</th>\n",
       "      <th>DayDiff</th>\n",
       "      <th>DayDiff2</th>\n",
       "      <th>DayDiff3</th>\n",
       "    </tr>\n",
       "  </thead>\n",
       "  <tbody>\n",
       "    <tr>\n",
       "      <th>649</th>\n",
       "      <td>12747.0</td>\n",
       "      <td>2011-03-01 14:53:00</td>\n",
       "      <td>2011-03-01</td>\n",
       "      <td>NaN</td>\n",
       "      <td>NaN</td>\n",
       "      <td>NaN</td>\n",
       "      <td>NaN</td>\n",
       "      <td>NaN</td>\n",
       "      <td>NaN</td>\n",
       "    </tr>\n",
       "    <tr>\n",
       "      <th>65091</th>\n",
       "      <td>12747.0</td>\n",
       "      <td>2011-05-05 15:31:00</td>\n",
       "      <td>2011-05-05</td>\n",
       "      <td>2011-03-01</td>\n",
       "      <td>NaN</td>\n",
       "      <td>NaN</td>\n",
       "      <td>65.0</td>\n",
       "      <td>NaN</td>\n",
       "      <td>NaN</td>\n",
       "    </tr>\n",
       "    <tr>\n",
       "      <th>90473</th>\n",
       "      <td>12747.0</td>\n",
       "      <td>2011-05-25 09:57:00</td>\n",
       "      <td>2011-05-25</td>\n",
       "      <td>2011-05-05</td>\n",
       "      <td>2011-03-01</td>\n",
       "      <td>NaN</td>\n",
       "      <td>20.0</td>\n",
       "      <td>85.0</td>\n",
       "      <td>NaN</td>\n",
       "    </tr>\n",
       "  </tbody>\n",
       "</table>\n",
       "</div>"
      ],
      "text/plain": [
       "       CustomerID         InvoiceDate  InvoiceDay PrevInvoiceDate  \\\n",
       "649       12747.0 2011-03-01 14:53:00  2011-03-01             NaN   \n",
       "65091     12747.0 2011-05-05 15:31:00  2011-05-05      2011-03-01   \n",
       "90473     12747.0 2011-05-25 09:57:00  2011-05-25      2011-05-05   \n",
       "\n",
       "      T2InvoiceDate T3InvoiceDate  DayDiff  DayDiff2  DayDiff3  \n",
       "649             NaN           NaN      NaN       NaN       NaN  \n",
       "65091           NaN           NaN     65.0       NaN       NaN  \n",
       "90473    2011-03-01           NaN     20.0      85.0       NaN  "
      ]
     },
     "execution_count": 19,
     "metadata": {},
     "output_type": "execute_result"
    }
   ],
   "source": [
    "uk_day_order.head(3)"
   ]
  },
  {
   "cell_type": "code",
   "execution_count": 20,
   "metadata": {},
   "outputs": [],
   "source": [
    "uk_day_diff = uk_day_order.groupby('CustomerID').agg({'DayDiff': ['mean','std']}).reset_index()\n",
    "uk_day_diff.columns = ['CustomerID', 'DayDiffMean','DayDiffStd']"
   ]
  },
  {
   "cell_type": "code",
   "execution_count": 21,
   "metadata": {},
   "outputs": [
    {
     "data": {
      "text/html": [
       "<div>\n",
       "<style scoped>\n",
       "    .dataframe tbody tr th:only-of-type {\n",
       "        vertical-align: middle;\n",
       "    }\n",
       "\n",
       "    .dataframe tbody tr th {\n",
       "        vertical-align: top;\n",
       "    }\n",
       "\n",
       "    .dataframe thead th {\n",
       "        text-align: right;\n",
       "    }\n",
       "</style>\n",
       "<table border=\"1\" class=\"dataframe\">\n",
       "  <thead>\n",
       "    <tr style=\"text-align: right;\">\n",
       "      <th></th>\n",
       "      <th>CustomerID</th>\n",
       "      <th>DayDiffMean</th>\n",
       "      <th>DayDiffStd</th>\n",
       "    </tr>\n",
       "  </thead>\n",
       "  <tbody>\n",
       "    <tr>\n",
       "      <th>0</th>\n",
       "      <td>12747.0</td>\n",
       "      <td>43.500000</td>\n",
       "      <td>20.305993</td>\n",
       "    </tr>\n",
       "    <tr>\n",
       "      <th>1</th>\n",
       "      <td>12748.0</td>\n",
       "      <td>3.723404</td>\n",
       "      <td>3.083632</td>\n",
       "    </tr>\n",
       "    <tr>\n",
       "      <th>2</th>\n",
       "      <td>12749.0</td>\n",
       "      <td>25.000000</td>\n",
       "      <td>30.099834</td>\n",
       "    </tr>\n",
       "  </tbody>\n",
       "</table>\n",
       "</div>"
      ],
      "text/plain": [
       "   CustomerID  DayDiffMean  DayDiffStd\n",
       "0     12747.0    43.500000   20.305993\n",
       "1     12748.0     3.723404    3.083632\n",
       "2     12749.0    25.000000   30.099834"
      ]
     },
     "execution_count": 21,
     "metadata": {},
     "output_type": "execute_result"
    }
   ],
   "source": [
    "uk_day_diff.head(3)"
   ]
  },
  {
   "cell_type": "code",
   "execution_count": 22,
   "metadata": {},
   "outputs": [],
   "source": [
    "#En az 3 alışverişi olan müşteriler için uygulandı\n",
    "uk_day_order_last = uk_day_order.drop_duplicates(subset=['CustomerID'], keep='last')"
   ]
  },
  {
   "cell_type": "code",
   "execution_count": 23,
   "metadata": {},
   "outputs": [],
   "source": [
    "uk_day_order_last = uk_day_order_last.dropna()\n",
    "uk_day_order_last = pd.merge(uk_day_order_last, uk_day_diff, on='CustomerID')\n",
    "uk_user = pd.merge(uk_user, uk_day_order_last[['CustomerID','DayDiff','DayDiff2','DayDiff3','DayDiffMean','DayDiffStd']], on='CustomerID')\n",
    "#Dummies\n",
    "uk_class = pd.DataFrame()\n",
    "uk_class = uk_user.copy()\n",
    "uk_class = pd.get_dummies(uk_class)"
   ]
  },
  {
   "cell_type": "code",
   "execution_count": 25,
   "metadata": {},
   "outputs": [
    {
     "data": {
      "text/html": [
       "<div>\n",
       "<style scoped>\n",
       "    .dataframe tbody tr th:only-of-type {\n",
       "        vertical-align: middle;\n",
       "    }\n",
       "\n",
       "    .dataframe tbody tr th {\n",
       "        vertical-align: top;\n",
       "    }\n",
       "\n",
       "    .dataframe thead th {\n",
       "        text-align: right;\n",
       "    }\n",
       "</style>\n",
       "<table border=\"1\" class=\"dataframe\">\n",
       "  <thead>\n",
       "    <tr style=\"text-align: right;\">\n",
       "      <th></th>\n",
       "      <th>CustomerID</th>\n",
       "      <th>NextPurchaseDay</th>\n",
       "      <th>Recency</th>\n",
       "      <th>RecencyCluster</th>\n",
       "      <th>Frequency</th>\n",
       "      <th>FrequencyCluster</th>\n",
       "      <th>Revenue</th>\n",
       "      <th>RevenueCluster</th>\n",
       "      <th>OverallScore</th>\n",
       "      <th>DayDiff</th>\n",
       "      <th>DayDiff2</th>\n",
       "      <th>DayDiff3</th>\n",
       "      <th>DayDiffMean</th>\n",
       "      <th>DayDiffStd</th>\n",
       "      <th>Segment_High-Value</th>\n",
       "      <th>Segment_Low-Value</th>\n",
       "      <th>Segment_Mid-Value</th>\n",
       "    </tr>\n",
       "  </thead>\n",
       "  <tbody>\n",
       "    <tr>\n",
       "      <th>0</th>\n",
       "      <td>14740.0</td>\n",
       "      <td>999.0</td>\n",
       "      <td>91</td>\n",
       "      <td>1</td>\n",
       "      <td>93</td>\n",
       "      <td>0</td>\n",
       "      <td>1423.21</td>\n",
       "      <td>0</td>\n",
       "      <td>1</td>\n",
       "      <td>6.0</td>\n",
       "      <td>34.0</td>\n",
       "      <td>92.0</td>\n",
       "      <td>30.666667</td>\n",
       "      <td>26.102363</td>\n",
       "      <td>0</td>\n",
       "      <td>1</td>\n",
       "      <td>0</td>\n",
       "    </tr>\n",
       "    <tr>\n",
       "      <th>1</th>\n",
       "      <td>17770.0</td>\n",
       "      <td>999.0</td>\n",
       "      <td>98</td>\n",
       "      <td>1</td>\n",
       "      <td>38</td>\n",
       "      <td>0</td>\n",
       "      <td>1143.27</td>\n",
       "      <td>0</td>\n",
       "      <td>1</td>\n",
       "      <td>14.0</td>\n",
       "      <td>77.0</td>\n",
       "      <td>84.0</td>\n",
       "      <td>28.000000</td>\n",
       "      <td>30.512293</td>\n",
       "      <td>0</td>\n",
       "      <td>1</td>\n",
       "      <td>0</td>\n",
       "    </tr>\n",
       "    <tr>\n",
       "      <th>2</th>\n",
       "      <td>15643.0</td>\n",
       "      <td>999.0</td>\n",
       "      <td>79</td>\n",
       "      <td>1</td>\n",
       "      <td>36</td>\n",
       "      <td>0</td>\n",
       "      <td>647.40</td>\n",
       "      <td>0</td>\n",
       "      <td>1</td>\n",
       "      <td>5.0</td>\n",
       "      <td>6.0</td>\n",
       "      <td>12.0</td>\n",
       "      <td>25.750000</td>\n",
       "      <td>43.553607</td>\n",
       "      <td>0</td>\n",
       "      <td>1</td>\n",
       "      <td>0</td>\n",
       "    </tr>\n",
       "  </tbody>\n",
       "</table>\n",
       "</div>"
      ],
      "text/plain": [
       "   CustomerID  NextPurchaseDay  Recency  RecencyCluster  Frequency  \\\n",
       "0     14740.0            999.0       91               1         93   \n",
       "1     17770.0            999.0       98               1         38   \n",
       "2     15643.0            999.0       79               1         36   \n",
       "\n",
       "   FrequencyCluster  Revenue  RevenueCluster  OverallScore  DayDiff  DayDiff2  \\\n",
       "0                 0  1423.21               0             1      6.0      34.0   \n",
       "1                 0  1143.27               0             1     14.0      77.0   \n",
       "2                 0   647.40               0             1      5.0       6.0   \n",
       "\n",
       "   DayDiff3  DayDiffMean  DayDiffStd  Segment_High-Value  Segment_Low-Value  \\\n",
       "0      92.0    30.666667   26.102363                   0                  1   \n",
       "1      84.0    28.000000   30.512293                   0                  1   \n",
       "2      12.0    25.750000   43.553607                   0                  1   \n",
       "\n",
       "   Segment_Mid-Value  \n",
       "0                  0  \n",
       "1                  0  \n",
       "2                  0  "
      ]
     },
     "execution_count": 25,
     "metadata": {},
     "output_type": "execute_result"
    }
   ],
   "source": [
    "uk_class.head(3)"
   ]
  },
  {
   "cell_type": "markdown",
   "metadata": {},
   "source": [
    "## Model"
   ]
  },
  {
   "cell_type": "code",
   "execution_count": 26,
   "metadata": {},
   "outputs": [],
   "source": [
    "from sklearn.model_selection import train_test_split, cross_val_score, GridSearchCV, KFold\n",
    "from sklearn.metrics import classification_report,confusion_matrix\n",
    "from sklearn.linear_model import LogisticRegression\n",
    "from sklearn.tree import DecisionTreeClassifier\n",
    "from sklearn.ensemble import RandomForestClassifier\n",
    "from sklearn.naive_bayes import GaussianNB\n",
    "from sklearn.svm import SVC\n",
    "from lightgbm import LGBMClassifier\n",
    "from sklearn.neighbors import KNeighborsClassifier"
   ]
  },
  {
   "cell_type": "code",
   "execution_count": 27,
   "metadata": {},
   "outputs": [
    {
     "data": {
      "text/plain": [
       "count    623.000000\n",
       "mean     176.390048\n",
       "std      326.482713\n",
       "min        0.000000\n",
       "25%       24.500000\n",
       "50%       47.000000\n",
       "75%       87.000000\n",
       "max      999.000000\n",
       "Name: NextPurchaseDay, dtype: float64"
      ]
     },
     "execution_count": 27,
     "metadata": {},
     "output_type": "execute_result"
    }
   ],
   "source": [
    "uk_user.NextPurchaseDay.describe()"
   ]
  },
  {
   "cell_type": "code",
   "execution_count": 28,
   "metadata": {},
   "outputs": [],
   "source": [
    "uk_class['NextPurchaseDayRange'] = 2\n",
    "uk_class.loc[uk_class.NextPurchaseDay > 20, 'NextPurchaseDayRange'] = 1\n",
    "uk_class.loc[uk_class.NextPurchaseDay > 50, 'NextPurchaseDayRange'] = 0"
   ]
  },
  {
   "cell_type": "code",
   "execution_count": 29,
   "metadata": {},
   "outputs": [
    {
     "data": {
      "image/png": "[encoded data removed]",
      "text/plain": [
       "<Figure size 1080x864 with 2 Axes>"
      ]
     },
     "metadata": {},
     "output_type": "display_data"
    }
   ],
   "source": [
    "plt.figure(figsize = (15,12))\n",
    "sns.heatmap(uk_class.corr(), annot = True, linewidths = 0.2, fmt=\".2f\", cmap='viridis');"
   ]
  },
  {
   "cell_type": "code",
   "execution_count": 30,
   "metadata": {},
   "outputs": [],
   "source": [
    "uk_class = uk_class.drop('NextPurchaseDay', axis=1)\n",
    "X, y = uk_class.drop('NextPurchaseDayRange',axis=1), uk_class.NextPurchaseDayRange\n",
    "x_train, x_test, y_train, y_test = train_test_split(X, y, test_size=0.2, random_state=42)"
   ]
  },
  {
   "cell_type": "code",
   "execution_count": 31,
   "metadata": {},
   "outputs": [],
   "source": [
    "models = []\n",
    "models.append((\"logistic\",LogisticRegression()))\n",
    "models.append((\"naive\",GaussianNB()))\n",
    "models.append((\"random\",RandomForestClassifier()))\n",
    "models.append((\"svc\",SVC()))\n",
    "models.append((\"tree\",DecisionTreeClassifier()))\n",
    "models.append((\"light\",LGBMClassifier()))\n",
    "models.append((\"knn\",KNeighborsClassifier()))"
   ]
  },
  {
   "cell_type": "code",
   "execution_count": 32,
   "metadata": {},
   "outputs": [
    {
     "name": "stdout",
     "output_type": "stream",
     "text": [
      "logistic 0.5983935742971888\n",
      "naive 0.5923694779116465\n",
      "random 0.5983935742971888\n",
      "svc 0.4979919678714859\n",
      "tree 0.5582329317269077\n",
      "light 0.6024096385542168\n",
      "knn 0.48995983935742976\n"
     ]
    }
   ],
   "source": [
    "for name, model in models:\n",
    "    kfold = KFold(n_splits=3, random_state=42)\n",
    "    cv_result = cross_val_score(model, x_train, y_train, cv = kfold, scoring = 'accuracy').mean()\n",
    "    print(name, cv_result)"
   ]
  },
  {
   "cell_type": "markdown",
   "metadata": {},
   "source": [
    "#### Parametreler"
   ]
  },
  {
   "cell_type": "code",
   "execution_count": 33,
   "metadata": {},
   "outputs": [
    {
     "name": "stdout",
     "output_type": "stream",
     "text": [
      "[LightGBM] [Warning] Accuracy may be bad since you didn't set num_leaves and 2^max_depth > num_leaves\n"
     ]
    },
    {
     "data": {
      "text/plain": [
       "({'max_depth': 5, 'min_child_weight': 5}, 0.606425702811245)"
      ]
     },
     "execution_count": 33,
     "metadata": {},
     "output_type": "execute_result"
    }
   ],
   "source": [
    "params = {\n",
    " 'max_depth':range(3,10,2),\n",
    " 'min_child_weight':range(1,6,2)\n",
    "}\n",
    "gridcv_results = GridSearchCV(estimator = LGBMClassifier(), param_grid = params, scoring='accuracy',n_jobs=-1,iid=False, cv=2)\n",
    "gridcv_results.fit(x_train, y_train)\n",
    "gridcv_results.best_params_, gridcv_results.best_score_"
   ]
  },
  {
   "cell_type": "code",
   "execution_count": 34,
   "metadata": {},
   "outputs": [
    {
     "name": "stdout",
     "output_type": "stream",
     "text": [
      "Accuracy of XGB classifier on training set: 0.99\n",
      "Accuracy of XGB classifier on test set: 0.62\n"
     ]
    }
   ],
   "source": [
    "light_model = LGBMClassifier(max_depth=5, min_child_weight=5).fit(x_train, y_train)\n",
    "\n",
    "print('Accuracy of XGB classifier on training set: {:.2f}'\n",
    "       .format(light_model.score(x_train, y_train)))\n",
    "print('Accuracy of XGB classifier on test set: {:.2f}'\n",
    "       .format(light_model.score(x_test[x_train.columns], y_test)))"
   ]
  },
  {
   "cell_type": "code",
   "execution_count": 155,
   "metadata": {},
   "outputs": [
    {
     "name": "stdout",
     "output_type": "stream",
     "text": [
      "              precision    recall  f1-score   support\n",
      "\n",
      "           0       0.68      0.83      0.75        60\n",
      "           1       0.51      0.45      0.48        40\n",
      "           2       0.65      0.44      0.52        25\n",
      "\n",
      "    accuracy                           0.63       125\n",
      "   macro avg       0.62      0.57      0.59       125\n",
      "weighted avg       0.62      0.63      0.62       125\n",
      "\n"
     ]
    }
   ],
   "source": [
    "y_pred = light_model.predict(x_test)\n",
    "print(classification_report(y_test, y_pred))"
   ]
  },
  {
   "cell_type": "code",
   "execution_count": null,
   "metadata": {},
   "outputs": [],
   "source": []
  }
 ],
 "metadata": {
  "kernelspec": {
   "display_name": "Python 3",
   "language": "python",
   "name": "python3"
  },
  "language_info": {
   "codemirror_mode": {
    "name": "ipython",
    "version": 3
   },
   "file_extension": ".py",
   "mimetype": "text/x-python",
   "name": "python",
   "nbconvert_exporter": "python",
   "pygments_lexer": "ipython3",
   "version": "3.7.9"
  }
 },
 "nbformat": 4,
 "nbformat_minor": 4
}
